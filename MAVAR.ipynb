{
 "cells": [
  {
   "cell_type": "code",
   "execution_count": null,
   "metadata": {},
   "outputs": [],
   "source": [
    "import pandas as pd\n",
    "import numpy as np\n",
    "# from.tools import *\n",
    "from Multivariate_Markov_Switching_Model.tools import *\n",
    "from Multivariate_Markov_Switching_Model.MSVAR import *\n",
    "from Multivariate_Markov_Switching_Model.tools import _2dim\n",
    "import numpy as np\n",
    "import os\n",
    "# os.chdir(\"MSVAR\")\n",
    "import pandas as pd\n",
    "import numpy as np\n",
    "from statsmodels.tsa.seasonal import seasonal_decompose\n",
    "from scipy.interpolate import interp1d\n",
    "from Multivariate_Markov_Switching_Model.MSVAR import *\n",
    "%matplotlib inline"
   ]
  },
  {
   "cell_type": "code",
   "execution_count": null,
   "metadata": {},
   "outputs": [],
   "source": [
    "import matplotlib.pyplot as plt\n",
    "plt.rcParams['font.sans-serif']=['SimHei'] #用来正常显示中文标签\n",
    "plt.rcParams['axes.unicode_minus']=False #用来正常显示负号\n"
   ]
  },
  {
   "cell_type": "code",
   "execution_count": null,
   "metadata": {},
   "outputs": [],
   "source": [
    "\n",
    "\n",
    "def fill(series):\n",
    "    # print(series.name)\n",
    "    if any(series.isna()):\n",
    "\n",
    "        nan_loc = pd.Index(series.values).get_loc(np.nan)\n",
    "        if isinstance(nan_loc, np.ndarray):\n",
    "            all_loc = np.arange(len(series))\n",
    "\n",
    "            x = np.setdiff1d(all_loc, nan_loc)\n",
    "            y = series.dropna().values\n",
    "\n",
    "            f = interp1d(x, y, 'slinear')\n",
    "            new_x = nan_loc[(nan_loc >= x[0]) & (nan_loc <= x[-1])]\n",
    "            new_y = f(new_x)\n",
    "\n",
    "            interpolate = pd.Series(new_y, index=new_x)\n",
    "            ori = pd.Series(y, index=x)\n",
    "\n",
    "            _ = pd.concat([interpolate, ori]).reindex(all_loc)\n",
    "            _.index = series.index\n",
    "            return _\n",
    "        else:\n",
    "            return series\n",
    "    else:\n",
    "        return series\n",
    "\n",
    "\n",
    "\n",
    "price = pd.read_pickle(\"Data/Financial/Index/daily/000001_daily_price.pkl\")['close']\n",
    "\n",
    "p = price.resample(\"M\").last()\n",
    "\n",
    "\n",
    "industry = pd.read_excel(\"Data/Financial/Macro/工业增加值-月.xls\",index_col=0,header=2,nrows=2).T\n",
    "\n",
    "industry.index = pd.DatetimeIndex(industry.index.str[:4]+\"-\"+industry.index.str[5:-1].str.zfill(2)+\"-01\")\n",
    "\n",
    "industry = industry.resample(\"M\").last()\n",
    "\n",
    "industry_increase = industry['工业增加值同比增长(%)']\n",
    "industry_increase = fill(industry_increase).dropna()\n",
    "\n",
    "\n",
    "# industry_increase.reindex(smooth_probabilities.index).plot()"
   ]
  },
  {
   "cell_type": "code",
   "execution_count": null,
   "metadata": {},
   "outputs": [],
   "source": []
  },
  {
   "cell_type": "code",
   "execution_count": null,
   "metadata": {},
   "outputs": [],
   "source": [
    "data = pd.read_pickle(\"Multivariate_Markov_Switching_Model/test_data.pkl\")\n",
    "data = data[['M2',\"股市\",'实体经济']]\n",
    "model = pd.read_pickle(\"Multivariate_Markov_Switching_Model/m2-股市-L3-K3.pkl\").loc[0]\n",
    "smooth_probabilities = pd.DataFrame(model.smooth_probabilities(),index=data.index[-model.x.shape[0]:])\n",
    "filtered_probabilities = pd.DataFrame(model.results['filtered_probabilities'][1:],index = data.index[-model.x.shape[0]:])\n",
    "p_predicted_joint = pd.DataFrame(model.results['p_predicted_joint'],index=data.index[-model.x.shape[0]:])\n",
    "price = pd.read_pickle(\"Data/Financial/Index/daily/000001_daily_price.pkl\")['close']\n",
    "\n",
    "# p = price.resample(\"M\").last().reindex(smooth_probabilities.index)\n",
    "p = (industry_increase).reindex(smooth_probabilities.index)\n",
    "\n",
    "import matplotlib.pyplot as plt\n",
    "import seaborn as sns\n",
    "fig,ax = plt.subplots(smooth_probabilities.shape[1],1,sharex=True,figsize=(10,6))\n",
    "for i in smooth_probabilities:\n",
    "    smooth_probabilities[i].plot(ax=ax[i],color='#984B4B')\n",
    "    filtered_probabilities[i].plot(ax=ax[i],color=\"#4F9D9D\",ls='-.')\n",
    "    p_predicted_joint[i].plot(ax=ax[i],color='#FF8F59',ls='--')\n",
    "#     ax[i].set(title=\"Regime %s\"%i)\n",
    "    ax[0].legend(['Smoothed','Filtered','Predicted'],loc='upper right')    \n",
    "    ax[i] = ax[i].twinx()\n",
    "    p.plot(ax=ax[i],color='k',alpha=0.3)\n",
    "    ax[0].legend(['工业同比增加'],loc='lower left')    \n",
    "ax[0].set_title(\"紧缩\")\n",
    "ax[1].set_title(\"平稳\")\n",
    "ax[2].set_title(\"通胀\")\n",
    "\n",
    "fig.tight_layout()\n"
   ]
  },
  {
   "cell_type": "code",
   "execution_count": null,
   "metadata": {},
   "outputs": [],
   "source": [
    "np.corrcoef(filtered_probabilities[2],p)"
   ]
  },
  {
   "cell_type": "code",
   "execution_count": null,
   "metadata": {},
   "outputs": [],
   "source": [
    "p_j, p_ij, b, d, var_mat, inv_var_mat,det_inv_var_mat = model.convert_param(model.results['constrained'])"
   ]
  },
  {
   "cell_type": "code",
   "execution_count": null,
   "metadata": {},
   "outputs": [],
   "source": [
    "p_ij"
   ]
  },
  {
   "cell_type": "code",
   "execution_count": null,
   "metadata": {},
   "outputs": [],
   "source": [
    "_ = model.summary()"
   ]
  },
  {
   "cell_type": "code",
   "execution_count": null,
   "metadata": {},
   "outputs": [],
   "source": [
    "pd.Series(_).to_pickle(\"Multivariate_Markov_Switching_Model//model1_summary.pkl\")"
   ]
  },
  {
   "cell_type": "code",
   "execution_count": null,
   "metadata": {},
   "outputs": [],
   "source": []
  },
  {
   "cell_type": "code",
   "execution_count": 1,
   "metadata": {},
   "outputs": [],
   "source": [
    "import warnings \n",
    "warnings.filterwarnings('ignore') \n",
    "from Multivariate_Markov_Switching_Model.MSVAR import *\n",
    "%matplotlib inline\n",
    "from Multivariate_Markov_Switching_Model.tools import _2dim\n",
    "\n",
    "\n",
    "data = []\n",
    "\n",
    "with open(\"Multivariate_Markov_Switching_Model/test_data/MSVARUN.txt\") as f:\n",
    "    for _ in f.readlines():\n",
    "        data.append(_.strip().split(\"\\t\"))\n",
    "data = pd.DataFrame(data)\n",
    "\n",
    "s = data.set_index([1,0]).replace(\".\",np.nan)[2].astype(float).rename_axis(['year','month'])\n",
    "\n",
    "apr = data.set_index([1,0]).replace(\".\",np.nan)[3].astype(float).rename_axis(['year','month'])\n",
    "\n",
    "apriori = apr[apr.index.get_loc((\"1967\",\"7\")):apr.index.get_loc((\"2004\",\"3\"))].values\n",
    "\n",
    "k_lag = 2\n",
    "\n",
    "_ = np.log(s).diff(k_lag)*100\n",
    "\n",
    "s = _[_.index.get_loc((\"1967\",\"2\"))+k_lag:_.index.get_loc((\"2004\",\"2\"))+1]\n",
    "\n",
    "s = ((s-s.mean())/s.std()).values[:,np.newaxis]\n",
    "y = s\n",
    "\n",
    "z = generate_lagged_regressors(s,3).values\n",
    "x = [1]*z.shape[0]\n",
    "x = _2dim(np.array(x))\n",
    "\n",
    "model = Markov_Multivarite_Regression(y[-z.shape[0]:],x,z,2,2,\"full\",apriori=None)\n",
    "# model = Multivariate_Markov_Switching_Model(y[-z.shape[0]:],x,None,2,2,\"full\",apriori=None)\n",
    "\n",
    "res = model.fit()\n",
    "\n"
   ]
  },
  {
   "cell_type": "code",
   "execution_count": 2,
   "metadata": {},
   "outputs": [
    {
     "data": {
      "text/plain": [
       "array([[ 0.85089924],\n",
       "       [ 0.97339873],\n",
       "       [-0.80059507],\n",
       "       [ 0.14887296],\n",
       "       [ 0.70574205],\n",
       "       [ 0.34950403],\n",
       "       [ 0.6414498 ],\n",
       "       [-0.45878331],\n",
       "       [ 0.34911898]])"
      ]
     },
     "execution_count": 2,
     "metadata": {},
     "output_type": "execute_result"
    }
   ],
   "source": [
    "res"
   ]
  },
  {
   "cell_type": "code",
   "execution_count": 3,
   "metadata": {},
   "outputs": [
    {
     "name": "stdout",
     "output_type": "stream",
     "text": [
      "calculating gradian and hessian matrix..pls be patient\n"
     ]
    }
   ],
   "source": [
    "summary = model.summary()"
   ]
  },
  {
   "cell_type": "code",
   "execution_count": 4,
   "metadata": {},
   "outputs": [
    {
     "data": {
      "text/html": [
       "<table class=\"simpletable\">\n",
       "<caption>Markov Switching Multivariate Model Results</caption>\n",
       "<tr>\n",
       "  <th>Dep. Variable:</th>      <td>['y0']</td>      <th>  No. Observations:  </th>   <td>440</td>  \n",
       "</tr>\n",
       "<tr>\n",
       "  <th>Date:</th>          <td>Fri, 17 Apr 2020</td> <th>  Covariance Type    </th>  <td>full</td>  \n",
       "</tr>\n",
       "<tr>\n",
       "  <th>Time:</th>            <td>['21:34:54']</td>   <th>  Regimes            </th>    <td>2</td>   \n",
       "</tr>\n",
       "<tr>\n",
       "  <th> </th>                      <td> </td>        <th>  Log Likelihood     </th> <td>449.278</td>\n",
       "</tr>\n",
       "</table>\n",
       "<table class=\"simpletable\">\n",
       "<caption>Regime 0 Switching Parameters</caption>\n",
       "<tr>\n",
       "      <td></td>      <th>coef</th>   <th>std err</th>    <th>t</th>     <th>p>|t|</th>\n",
       "</tr>\n",
       "<tr>\n",
       "  <th>y0.beta0</th> <td>-0.8006</td> <td>0.2243</td>  <td>-3.5699</td> <td>0.0004</td>\n",
       "</tr>\n",
       "</table>\n",
       "<table class=\"simpletable\">\n",
       "<caption>Regime 1 Switching Parameters</caption>\n",
       "<tr>\n",
       "      <td></td>      <th>coef</th>  <th>std err</th>    <th>t</th>    <th>p>|t|</th>\n",
       "</tr>\n",
       "<tr>\n",
       "  <th>y0.beta0</th> <td>0.1489</td> <td>0.0519</td>  <td>2.8709</td> <td>0.0043</td>\n",
       "</tr>\n",
       "</table>\n",
       "<table class=\"simpletable\">\n",
       "<caption>Non Switching Parameters</caption>\n",
       "<tr>\n",
       "      <td></td>       <th>coef</th>   <th>std err</th>    <th>t</th>    <th>p>|t|</th>\n",
       "</tr>\n",
       "<tr>\n",
       "  <th>y0.delta0</th> <td>0.6414</td>  <td>0.0578</td>  <td>11.1001</td>  <td>0.0</td> \n",
       "</tr>\n",
       "<tr>\n",
       "  <th>y0.delta1</th> <td>-0.4588</td> <td>0.0512</td>  <td>-8.9583</td>  <td>0.0</td> \n",
       "</tr>\n",
       "<tr>\n",
       "  <th>y0.delta2</th> <td>0.3491</td>   <td>0.051</td>  <td>6.8521</td>   <td>0.0</td> \n",
       "</tr>\n",
       "</table>\n",
       "<table class=\"simpletable\">\n",
       "<caption>Regime transition parameters</caption>\n",
       "<tr>\n",
       "     <td></td>     <th>coef1</th> <th>std err</th>    <th>t</th>    <th>p>|t|</th>\n",
       "</tr>\n",
       "<tr>\n",
       "  <th>p[0-0]</th> <td>0.8509</td> <td>0.0797</td>  <td>10.6763</td>  <td>0.0</td> \n",
       "</tr>\n",
       "<tr>\n",
       "  <th>p[0-1]</th> <td>0.9734</td> <td>0.0129</td>  <td>75.6457</td>  <td>0.0</td> \n",
       "</tr>\n",
       "</table>"
      ],
      "text/plain": [
       "<class 'statsmodels.iolib.summary.Summary'>\n",
       "\"\"\"\n",
       "                 Markov Switching Multivariate Model Results                  \n",
       "==============================================================================\n",
       "Dep. Variable:                 ['y0']   No. Observations:                  440\n",
       "Date:                Fri, 17 Apr 2020   Covariance Type                   full\n",
       "Time:                    ['21:34:54']   Regimes                              2\n",
       "                                        Log Likelihood                 449.278\n",
       "                         Regime 0 Switching Parameters                         \n",
       "===============================================================================\n",
       "                           coef         std err               t           p>|t|\n",
       "-------------------------------------------------------------------------------\n",
       "y0.beta0                -0.8006          0.2243         -3.5699          0.0004\n",
       "                         Regime 1 Switching Parameters                         \n",
       "===============================================================================\n",
       "                           coef         std err               t           p>|t|\n",
       "-------------------------------------------------------------------------------\n",
       "y0.beta0                 0.1489          0.0519          2.8709          0.0043\n",
       "                            Non Switching Parameters                           \n",
       "===============================================================================\n",
       "                           coef         std err               t           p>|t|\n",
       "-------------------------------------------------------------------------------\n",
       "y0.delta0                0.6414          0.0578         11.1001             0.0\n",
       "y0.delta1               -0.4588          0.0512         -8.9583             0.0\n",
       "y0.delta2                0.3491           0.051          6.8521             0.0\n",
       "                          Regime transition parameters                         \n",
       "===============================================================================\n",
       "                          coef1         std err               t           p>|t|\n",
       "-------------------------------------------------------------------------------\n",
       "p[0-0]                   0.8509          0.0797         10.6763             0.0\n",
       "p[0-1]                   0.9734          0.0129         75.6457             0.0\n",
       "===============================================================================\n",
       "\"\"\""
      ]
     },
     "execution_count": 4,
     "metadata": {},
     "output_type": "execute_result"
    }
   ],
   "source": [
    "summary[0]"
   ]
  },
  {
   "cell_type": "code",
   "execution_count": 5,
   "metadata": {},
   "outputs": [
    {
     "data": {
      "text/html": [
       "<div>\n",
       "<style scoped>\n",
       "    .dataframe tbody tr th:only-of-type {\n",
       "        vertical-align: middle;\n",
       "    }\n",
       "\n",
       "    .dataframe tbody tr th {\n",
       "        vertical-align: top;\n",
       "    }\n",
       "\n",
       "    .dataframe thead th {\n",
       "        text-align: right;\n",
       "    }\n",
       "</style>\n",
       "<table border=\"1\" class=\"dataframe\">\n",
       "  <thead>\n",
       "    <tr style=\"text-align: right;\">\n",
       "      <th></th>\n",
       "      <th>Estimates</th>\n",
       "      <th>Standard-errors</th>\n",
       "      <th>T</th>\n",
       "      <th>P-values</th>\n",
       "    </tr>\n",
       "  </thead>\n",
       "  <tbody>\n",
       "    <tr>\n",
       "      <th>0</th>\n",
       "      <td>0.8509</td>\n",
       "      <td>0.0797</td>\n",
       "      <td>10.6763</td>\n",
       "      <td>0.0000</td>\n",
       "    </tr>\n",
       "    <tr>\n",
       "      <th>1</th>\n",
       "      <td>0.9734</td>\n",
       "      <td>0.0129</td>\n",
       "      <td>75.6457</td>\n",
       "      <td>0.0000</td>\n",
       "    </tr>\n",
       "    <tr>\n",
       "      <th>2</th>\n",
       "      <td>-0.8006</td>\n",
       "      <td>0.2243</td>\n",
       "      <td>-3.5699</td>\n",
       "      <td>0.0004</td>\n",
       "    </tr>\n",
       "    <tr>\n",
       "      <th>3</th>\n",
       "      <td>0.1489</td>\n",
       "      <td>0.0519</td>\n",
       "      <td>2.8709</td>\n",
       "      <td>0.0043</td>\n",
       "    </tr>\n",
       "    <tr>\n",
       "      <th>4</th>\n",
       "      <td>0.7057</td>\n",
       "      <td>0.2004</td>\n",
       "      <td>3.5216</td>\n",
       "      <td>0.0005</td>\n",
       "    </tr>\n",
       "    <tr>\n",
       "      <th>5</th>\n",
       "      <td>0.3495</td>\n",
       "      <td>0.0314</td>\n",
       "      <td>11.1178</td>\n",
       "      <td>0.0000</td>\n",
       "    </tr>\n",
       "    <tr>\n",
       "      <th>6</th>\n",
       "      <td>0.6414</td>\n",
       "      <td>0.0578</td>\n",
       "      <td>11.1001</td>\n",
       "      <td>0.0000</td>\n",
       "    </tr>\n",
       "    <tr>\n",
       "      <th>7</th>\n",
       "      <td>-0.4588</td>\n",
       "      <td>0.0512</td>\n",
       "      <td>-8.9583</td>\n",
       "      <td>0.0000</td>\n",
       "    </tr>\n",
       "    <tr>\n",
       "      <th>8</th>\n",
       "      <td>0.3491</td>\n",
       "      <td>0.0510</td>\n",
       "      <td>6.8521</td>\n",
       "      <td>0.0000</td>\n",
       "    </tr>\n",
       "  </tbody>\n",
       "</table>\n",
       "</div>"
      ],
      "text/plain": [
       "   Estimates  Standard-errors        T  P-values\n",
       "0     0.8509           0.0797  10.6763    0.0000\n",
       "1     0.9734           0.0129  75.6457    0.0000\n",
       "2    -0.8006           0.2243  -3.5699    0.0004\n",
       "3     0.1489           0.0519   2.8709    0.0043\n",
       "4     0.7057           0.2004   3.5216    0.0005\n",
       "5     0.3495           0.0314  11.1178    0.0000\n",
       "6     0.6414           0.0578  11.1001    0.0000\n",
       "7    -0.4588           0.0512  -8.9583    0.0000\n",
       "8     0.3491           0.0510   6.8521    0.0000"
      ]
     },
     "execution_count": 5,
     "metadata": {},
     "output_type": "execute_result"
    }
   ],
   "source": [
    "summary[1]"
   ]
  },
  {
   "cell_type": "code",
   "execution_count": 6,
   "metadata": {},
   "outputs": [
    {
     "name": "stdout",
     "output_type": "stream",
     "text": [
      "==============================Transition Matrix==============================\n",
      "          0         1\n",
      "0  0.850899  0.026601\n",
      "1  0.149101  0.973399\n"
     ]
    }
   ],
   "source": [
    "print(\"=\"*30+\"Transition Matrix\"+\"=\"*30)\n",
    "print(pd.DataFrame(summary[2]))"
   ]
  },
  {
   "cell_type": "code",
   "execution_count": 7,
   "metadata": {},
   "outputs": [
    {
     "name": "stdout",
     "output_type": "stream",
     "text": [
      "==============================Sigma==============================\n",
      "[[0.70574205 0.34950403]]\n"
     ]
    }
   ],
   "source": [
    "print(\"=\"*30+\"Sigma\"+\"=\"*30)\n",
    "print(summary[3])"
   ]
  },
  {
   "cell_type": "code",
   "execution_count": 8,
   "metadata": {},
   "outputs": [
    {
     "data": {
      "text/plain": [
       "<matplotlib.legend.Legend at 0x11a68aef0>"
      ]
     },
     "execution_count": 8,
     "metadata": {},
     "output_type": "execute_result"
    },
    {
     "data": {
      "image/png": "[encoded data removed]",
      "text/plain": [
       "<Figure size 720x288 with 2 Axes>"
      ]
     },
     "metadata": {
      "needs_background": "light"
     },
     "output_type": "display_data"
    }
   ],
   "source": [
    "_sp = pd.DataFrame(model.smooth_probabilities())\n",
    "fig,ax = plt.subplots(2,1,figsize=(10,4),sharex=True)\n",
    "_sp[0].plot(ax=ax[0])\n",
    "_sp[1].plot(ax=ax[1],color='tomato')\n",
    "_ = ax[0].set_title(\"Smoothed Probability\",fontsize=14)\n",
    "ax[0].legend([\"Regime 1\"],loc='upper right')\n",
    "ax[1].legend([\"Regime 2\"],loc='upper right')\n"
   ]
  },
  {
   "cell_type": "code",
   "execution_count": null,
   "metadata": {},
   "outputs": [],
   "source": []
  }
 ],
 "metadata": {
  "kernelspec": {
   "display_name": "Python 3",
   "language": "python",
   "name": "python3"
  },
  "language_info": {
   "codemirror_mode": {
    "name": "ipython",
    "version": 3
   },
   "file_extension": ".py",
   "mimetype": "text/x-python",
   "name": "python",
   "nbconvert_exporter": "python",
   "pygments_lexer": "ipython3",
   "version": "3.7.3"
  }
 },
 "nbformat": 4,
 "nbformat_minor": 2
}
